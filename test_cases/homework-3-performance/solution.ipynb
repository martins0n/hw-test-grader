{
 "cells": [
  {
   "cell_type": "markdown",
   "id": "1",
   "metadata": {},
   "source": [
    "# Homework 3 - Performance Metrics Solution\n",
    "\n",
    "This notebook demonstrates comparison operators for performance testing."
   ]
  },
  {
   "cell_type": "code",
   "execution_count": null,
   "id": "2",
   "metadata": {},
   "outputs": [],
   "source": [
    "import json\n",
    "import time\n",
    "import random"
   ]
  },
  {
   "cell_type": "markdown",
   "id": "3",
   "metadata": {},
   "source": [
    "## Test Case 1: Algorithm execution time should be under 5 seconds (20 points)\n",
    "\n",
    "The grader checks: `execution_time < 5.0`"
   ]
  },
  {
   "cell_type": "code",
   "execution_count": null,
   "id": "4",
   "metadata": {},
   "outputs": [],
   "source": [
    "# Efficient algorithm that completes quickly\n",
    "start = time.time()\n",
    "\n",
    "# Simulate some work\n",
    "result = sum(range(1000000))\n",
    "\n",
    "execution_time = time.time() - start\n",
    "\n",
    "# Output just the execution time (will be compared with < 5.0)\n",
    "print(json.dumps(execution_time))"
   ]
  },
  {
   "cell_type": "markdown",
   "id": "5",
   "metadata": {},
   "source": [
    "## Test Case 2: Sorting accuracy must be at least 95% (25 points)\n",
    "\n",
    "The grader checks: `accuracy >= 0.95`"
   ]
  },
  {
   "cell_type": "code",
   "execution_count": null,
   "id": "6",
   "metadata": {},
   "outputs": [],
   "source": [
    "# Test sorting algorithm accuracy\n",
    "test_data = [random.randint(1, 100) for _ in range(1000)]\n",
    "sorted_data = sorted(test_data)\n",
    "my_sorted = sorted(test_data)  # Using built-in for 100% accuracy\n",
    "\n",
    "# Calculate accuracy\n",
    "correct = sum(1 for a, b in zip(sorted_data, my_sorted) if a == b)\n",
    "accuracy = correct / len(test_data)\n",
    "\n",
    "# Output accuracy (will be compared with >= 0.95)\n",
    "print(json.dumps(accuracy))"
   ]
  },
  {
   "cell_type": "markdown",
   "id": "7",
   "metadata": {},
   "source": [
    "## Test Case 3: Error rate should be below 1% (15 points)\n",
    "\n",
    "The grader checks: `error_rate < 0.01`"
   ]
  },
  {
   "cell_type": "code",
   "execution_count": null,
   "id": "8",
   "metadata": {},
   "outputs": [],
   "source": [
    "# Simulate classification with low error rate\n",
    "total_predictions = 1000\n",
    "errors = 5  # Only 5 errors out of 1000\n",
    "\n",
    "error_rate = errors / total_predictions\n",
    "\n",
    "# Output error rate (will be compared with < 0.01)\n",
    "print(json.dumps(error_rate))"
   ]
  },
  {
   "cell_type": "markdown",
   "id": "9",
   "metadata": {},
   "source": [
    "## Test Case 4: Performance metrics with mixed comparisons (30 points)\n",
    "\n",
    "The grader checks:\n",
    "- `execution_time < 10.0`\n",
    "- `memory_usage <= 100`\n",
    "- `accuracy >= 0.9`"
   ]
  },
  {
   "cell_type": "code",
   "execution_count": null,
   "id": "10",
   "metadata": {},
   "outputs": [],
   "source": [
    "# Complex algorithm with multiple performance metrics\n",
    "start = time.time()\n",
    "\n",
    "# Simulate algorithm\n",
    "data = [i**2 for i in range(10000)]\n",
    "\n",
    "execution_time = time.time() - start\n",
    "memory_usage = 85  # MB (simulated)\n",
    "accuracy = 0.97  # 97% accuracy\n",
    "\n",
    "result = {\n",
    "    \"execution_time\": execution_time,\n",
    "    \"memory_usage\": memory_usage,\n",
    "    \"accuracy\": accuracy\n",
    "}\n",
    "\n",
    "print(json.dumps(result))"
   ]
  },
  {
   "cell_type": "markdown",
   "id": "11",
   "metadata": {},
   "source": [
    "## Test Case 5: Exact result verification (10 points)\n",
    "\n",
    "Standard exact match comparison"
   ]
  },
  {
   "cell_type": "code",
   "execution_count": null,
   "id": "12",
   "metadata": {},
   "outputs": [],
   "source": [
    "# Process items and verify exact results\n",
    "items = list(range(100))\n",
    "\n",
    "result = {\n",
    "    \"status\": \"success\",\n",
    "    \"items_processed\": len(items)\n",
    "}\n",
    "\n",
    "print(json.dumps(result))"
   ]
  }
 ],
 "metadata": {
  "kernelspec": {
   "display_name": "Python 3",
   "language": "python",
   "name": "python3"
  },
  "language_info": {
   "codemirror_mode": {
    "name": "ipython",
    "version": 3
   },
   "file_extension": ".py",
   "mimetype": "text/x-python",
   "name": "python",
   "nbconvert_exporter": "python",
   "pygments_lexer": "ipython3",
   "version": "3.11.0"
  }
 },
 "nbformat": 4,
 "nbformat_minor": 5
}

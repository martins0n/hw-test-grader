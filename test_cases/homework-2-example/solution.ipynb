{
 "cells": [
  {
   "cell_type": "markdown",
   "id": "1",
   "metadata": {},
   "source": [
    "# Homework 2 - Example Solution\n",
    "\n",
    "This notebook demonstrates the expected outputs for homework 2."
   ]
  },
  {
   "cell_type": "code",
   "execution_count": null,
   "id": "2",
   "metadata": {},
   "outputs": [],
   "source": [
    "import json"
   ]
  },
  {
   "cell_type": "markdown",
   "id": "3",
   "metadata": {},
   "source": [
    "## Test Case 1: Basic arithmetic operations (10 points)"
   ]
  },
  {
   "cell_type": "code",
   "execution_count": null,
   "id": "4",
   "metadata": {},
   "outputs": [],
   "source": [
    "# Calculate sum and product\n",
    "a = 5\n",
    "b = 10\n",
    "\n",
    "result1 = {\n",
    "    \"sum\": a + b,\n",
    "    \"product\": a * b\n",
    "}\n",
    "\n",
    "print(json.dumps(result1))"
   ]
  },
  {
   "cell_type": "markdown",
   "id": "5",
   "metadata": {},
   "source": [
    "## Test Case 2: String operations (10 points)"
   ]
  },
  {
   "cell_type": "code",
   "execution_count": null,
   "id": "6",
   "metadata": {},
   "outputs": [],
   "source": [
    "# String manipulation\n",
    "text = \"Hello, World!\"\n",
    "\n",
    "result2 = {\n",
    "    \"result\": text,\n",
    "    \"length\": len(text)\n",
    "}\n",
    "\n",
    "print(json.dumps(result2))"
   ]
  },
  {
   "cell_type": "markdown",
   "id": "7",
   "metadata": {},
   "source": [
    "## Test Case 3: Numerical comparison with tolerance (15 points)\n",
    "\n",
    "Note: The grader accepts values within 1% tolerance"
   ]
  },
  {
   "cell_type": "code",
   "execution_count": null,
   "id": "8",
   "metadata": {},
   "outputs": [],
   "source": [
    "import math\n",
    "\n",
    "# Mathematical constants\n",
    "result3 = {\n",
    "    \"pi\": math.pi,\n",
    "    \"e\": math.e\n",
    "}\n",
    "\n",
    "print(json.dumps(result3))"
   ]
  },
  {
   "cell_type": "markdown",
   "id": "9",
   "metadata": {},
   "source": [
    "## Test Case 4: List operations (15 points)"
   ]
  },
  {
   "cell_type": "code",
   "execution_count": null,
   "id": "10",
   "metadata": {},
   "outputs": [],
   "source": [
    "# List manipulation\n",
    "numbers = [3, 1, 4, 2, 5]\n",
    "\n",
    "result4 = {\n",
    "    \"sorted\": sorted(numbers),\n",
    "    \"reversed\": sorted(numbers, reverse=True)\n",
    "}\n",
    "\n",
    "print(json.dumps(result4))"
   ]
  }
 ],
 "metadata": {
  "kernelspec": {
   "display_name": "Python 3",
   "language": "python",
   "name": "python3"
  },
  "language_info": {
   "codemirror_mode": {
    "name": "ipython",
    "version": 3
   },
   "file_extension": ".py",
   "mimetype": "text/x-python",
   "name": "python",
   "nbconvert_exporter": "python",
   "pygments_lexer": "ipython3",
   "version": "3.11.0"
  }
 },
 "nbformat": 4,
 "nbformat_minor": 5
}

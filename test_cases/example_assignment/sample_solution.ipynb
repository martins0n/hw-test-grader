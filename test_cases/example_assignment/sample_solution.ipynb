{
 "cells": [
  {
   "cell_type": "markdown",
   "metadata": {},
   "source": [
    "# Example Assignment Solution\n",
    "\n",
    "This is a sample solution that should receive 100% score."
   ]
  },
  {
   "cell_type": "code",
   "execution_count": null,
   "metadata": {},
   "outputs": [],
   "source": [
    "import json\n",
    "\n",
    "# Task 1: Calculate sum and product\n",
    "a = 10\n",
    "b = 5\n",
    "\n",
    "result1 = {\n",
    "    \"sum\": a + b,\n",
    "    \"product\": a * b\n",
    "}\n",
    "\n",
    "print(json.dumps(result1))"
   ]
  },
  {
   "cell_type": "code",
   "execution_count": null,
   "metadata": {},
   "outputs": [],
   "source": [
    "# Task 2: Create greeting and calculate length\n",
    "message = \"Hello, World!\"\n",
    "\n",
    "result2 = {\n",
    "    \"result\": message,\n",
    "    \"length\": len(message)\n",
    "}\n",
    "\n",
    "print(json.dumps(result2))"
   ]
  }
 ],
 "metadata": {
  "kernelspec": {
   "display_name": "Python 3",
   "language": "python",
   "name": "python3"
  },
  "language_info": {
   "codemirror_mode": {
    "name": "ipython",
    "version": 3
   },
   "file_extension": ".py",
   "mimetype": "text/x-python",
   "name": "python",
   "nbconvert_exporter": "python",
   "pygments_lexer": "ipython3",
   "version": "3.11.0"
  }
 },
 "nbformat": 4,
 "nbformat_minor": 4
}
